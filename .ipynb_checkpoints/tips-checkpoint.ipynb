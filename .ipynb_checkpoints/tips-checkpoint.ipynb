{
 "cells": [
  {
   "cell_type": "code",
   "execution_count": 74,
   "id": "0b753659",
   "metadata": {},
   "outputs": [],
   "source": [
    "#import modules\n",
    "import pandas as pd\n",
    "import numpy as np\n",
    "import matplotlib.pyplot as plt\n",
    "%matplotlib inline\n",
    "import seaborn as sns\n",
    "sns.set_style('whitegrid') "
   ]
  },
  {
   "cell_type": "code",
   "execution_count": 143,
   "id": "a8355600",
   "metadata": {},
   "outputs": [
    {
     "data": {
      "text/html": [
       "<div>\n",
       "<style scoped>\n",
       "    .dataframe tbody tr th:only-of-type {\n",
       "        vertical-align: middle;\n",
       "    }\n",
       "\n",
       "    .dataframe tbody tr th {\n",
       "        vertical-align: top;\n",
       "    }\n",
       "\n",
       "    .dataframe thead th {\n",
       "        text-align: right;\n",
       "    }\n",
       "</style>\n",
       "<table border=\"1\" class=\"dataframe\">\n",
       "  <thead>\n",
       "    <tr style=\"text-align: right;\">\n",
       "      <th></th>\n",
       "      <th>total_bill</th>\n",
       "      <th>tip</th>\n",
       "      <th>sex</th>\n",
       "      <th>smoker</th>\n",
       "      <th>day</th>\n",
       "      <th>time</th>\n",
       "      <th>size</th>\n",
       "    </tr>\n",
       "  </thead>\n",
       "  <tbody>\n",
       "    <tr>\n",
       "      <th>0</th>\n",
       "      <td>16.99</td>\n",
       "      <td>1.01</td>\n",
       "      <td>Female</td>\n",
       "      <td>No</td>\n",
       "      <td>Sun</td>\n",
       "      <td>Dinner</td>\n",
       "      <td>2</td>\n",
       "    </tr>\n",
       "    <tr>\n",
       "      <th>1</th>\n",
       "      <td>10.34</td>\n",
       "      <td>1.66</td>\n",
       "      <td>Male</td>\n",
       "      <td>No</td>\n",
       "      <td>Sun</td>\n",
       "      <td>Dinner</td>\n",
       "      <td>3</td>\n",
       "    </tr>\n",
       "    <tr>\n",
       "      <th>2</th>\n",
       "      <td>21.01</td>\n",
       "      <td>3.50</td>\n",
       "      <td>Male</td>\n",
       "      <td>No</td>\n",
       "      <td>Sun</td>\n",
       "      <td>Dinner</td>\n",
       "      <td>3</td>\n",
       "    </tr>\n",
       "    <tr>\n",
       "      <th>3</th>\n",
       "      <td>23.68</td>\n",
       "      <td>3.31</td>\n",
       "      <td>Male</td>\n",
       "      <td>No</td>\n",
       "      <td>Sun</td>\n",
       "      <td>Dinner</td>\n",
       "      <td>2</td>\n",
       "    </tr>\n",
       "    <tr>\n",
       "      <th>4</th>\n",
       "      <td>24.59</td>\n",
       "      <td>3.61</td>\n",
       "      <td>Female</td>\n",
       "      <td>No</td>\n",
       "      <td>Sun</td>\n",
       "      <td>Dinner</td>\n",
       "      <td>4</td>\n",
       "    </tr>\n",
       "  </tbody>\n",
       "</table>\n",
       "</div>"
      ],
      "text/plain": [
       "   total_bill   tip     sex smoker  day    time  size\n",
       "0       16.99  1.01  Female     No  Sun  Dinner     2\n",
       "1       10.34  1.66    Male     No  Sun  Dinner     3\n",
       "2       21.01  3.50    Male     No  Sun  Dinner     3\n",
       "3       23.68  3.31    Male     No  Sun  Dinner     2\n",
       "4       24.59  3.61  Female     No  Sun  Dinner     4"
      ]
     },
     "execution_count": 143,
     "metadata": {},
     "output_type": "execute_result"
    }
   ],
   "source": [
    "#load dataset\n",
    "df=sns.load_dataset('tips')\n",
    "df.head() "
   ]
  },
  {
   "cell_type": "code",
   "execution_count": 76,
   "id": "5000ae5c",
   "metadata": {},
   "outputs": [
    {
     "data": {
      "text/plain": [
       "(244, 7)"
      ]
     },
     "execution_count": 76,
     "metadata": {},
     "output_type": "execute_result"
    }
   ],
   "source": [
    "#dimensions of data in format rows,columns\n",
    "df.shape"
   ]
  },
  {
   "cell_type": "code",
   "execution_count": 77,
   "id": "aa23e007",
   "metadata": {},
   "outputs": [
    {
     "data": {
      "text/plain": [
       "total_bill    0\n",
       "tip           0\n",
       "sex           0\n",
       "smoker        0\n",
       "day           0\n",
       "time          0\n",
       "size          0\n",
       "dtype: int64"
      ]
     },
     "execution_count": 77,
     "metadata": {},
     "output_type": "execute_result"
    }
   ],
   "source": [
    "# It gives us null values\n",
    "df.isnull().sum()"
   ]
  },
  {
   "cell_type": "code",
   "execution_count": 78,
   "id": "08b8024e",
   "metadata": {},
   "outputs": [
    {
     "name": "stdout",
     "output_type": "stream",
     "text": [
      "<class 'pandas.core.frame.DataFrame'>\n",
      "RangeIndex: 244 entries, 0 to 243\n",
      "Data columns (total 7 columns):\n",
      " #   Column      Non-Null Count  Dtype   \n",
      "---  ------      --------------  -----   \n",
      " 0   total_bill  244 non-null    float64 \n",
      " 1   tip         244 non-null    float64 \n",
      " 2   sex         244 non-null    category\n",
      " 3   smoker      244 non-null    category\n",
      " 4   day         244 non-null    category\n",
      " 5   time        244 non-null    category\n",
      " 6   size        244 non-null    int64   \n",
      "dtypes: category(4), float64(2), int64(1)\n",
      "memory usage: 7.4 KB\n",
      "None\n"
     ]
    }
   ],
   "source": [
    "# It gives the data type of the Data\n",
    "print(df.info())"
   ]
  },
  {
   "cell_type": "code",
   "execution_count": 145,
   "id": "6a7766be",
   "metadata": {
    "scrolled": true
   },
   "outputs": [
    {
     "name": "stdout",
     "output_type": "stream",
     "text": [
      "\n",
      "Basic Statistics:\n",
      "       total_bill         tip        size\n",
      "count  244.000000  244.000000  244.000000\n",
      "mean    19.785943    2.998279    2.569672\n",
      "std      8.902412    1.383638    0.951100\n",
      "min      3.070000    1.000000    1.000000\n",
      "25%     13.347500    2.000000    2.000000\n",
      "50%     17.795000    2.900000    2.000000\n",
      "75%     24.127500    3.562500    3.000000\n",
      "max     50.810000   10.000000    6.000000\n"
     ]
    },
    {
     "data": {
      "text/plain": [
       "'\" Standrad deviation equation : Standard deviation is a measure of uncertainty.\\nA low standard deviation means that most of the numbers are close to the mean (average) value.\\nA high standard deviation means that the values are spread out over a wider range.\\nStandard Deviation is often represented by the symbol Sigma: σ\\nCoefficient of Variation : \\nThe coefficient of variation is used to get an idea of how large the standard deviation is. \\nMathematically, the coefficient of variation is defined as: \\nCoefficient of Variation = Standard Deviation / Mean '"
      ]
     },
     "execution_count": 145,
     "metadata": {},
     "output_type": "execute_result"
    }
   ],
   "source": [
    "# Basic statistics of numerical columns\n",
    "basic_stats = df.describe()\n",
    "print(\"\\nBasic Statistics:\")\n",
    "print(basic_stats)\n",
    "\n",
    "\"\"\"\" Standrad deviation equation : Standard deviation is a measure of uncertainty.\n",
    "A low standard deviation means that most of the numbers are close to the mean (average) value.\n",
    "A high standard deviation means that the values are spread out over a wider range.\n",
    "Standard Deviation is often represented by the symbol Sigma: σ\n",
    "Coefficient of Variation : \n",
    "The coefficient of variation is used to get an idea of how large the standard deviation is. \n",
    "Mathematically, the coefficient of variation is defined as: \n",
    "Coefficient of Variation = Standard Deviation / Mean \n",
    "Percentiles : indicate the percentage of scores that fall below a particular value.\n",
    "\"\"\"\n"
   ]
  },
  {
   "cell_type": "code",
   "execution_count": 80,
   "id": "1673e768",
   "metadata": {},
   "outputs": [
    {
     "name": "stdout",
     "output_type": "stream",
     "text": [
      "The maximum bill amount is $50.810 while the minimum bill amount is $3.070\n",
      "The maximum tip amount is $10.000 while the minimum tip is $1.000\n"
     ]
    }
   ],
   "source": [
    "# Maximum & Minimum Total bill\n",
    "print(\"The maximum bill amount is $%.3f\" %df['total_bill'].max(),\"while the minimum bill amount is $%.3f\" %df['total_bill'].min())\n",
    "# Maximum & Minimum Tips\n",
    "print(\"The maximum tip amount is $%.3f\" %df['tip'].max(),\"while the minimum tip is $%.3f\" %df['tip'].min())"
   ]
  },
  {
   "cell_type": "code",
   "execution_count": 81,
   "id": "f86bc9f6",
   "metadata": {},
   "outputs": [
    {
     "name": "stdout",
     "output_type": "stream",
     "text": [
      "The variance and standard deviations of Total Bill amounts are 79.253 and 8.902\n",
      "The variance and standard deviations of tip amounts are 1.914 and 1.384\n",
      "The variance and standard deviations of size are 0.905 and 0.951\n"
     ]
    }
   ],
   "source": [
    "print(f\"The variance and standard deviations of Total Bill amounts are {df['total_bill'].var():.3f} and {df['total_bill'].std():.3f}\")\n",
    "print(f\"The variance and standard deviations of tip amounts are {df['tip'].var():.3f} and {df['tip'].std():.3f}\")\n",
    "print(f\"The variance and standard deviations of size are {df['size'].var():.3f} and {df['size'].std():.3f}\")"
   ]
  },
  {
   "cell_type": "code",
   "execution_count": 82,
   "id": "c574964a",
   "metadata": {},
   "outputs": [
    {
     "data": {
      "text/html": [
       "<div>\n",
       "<style scoped>\n",
       "    .dataframe tbody tr th:only-of-type {\n",
       "        vertical-align: middle;\n",
       "    }\n",
       "\n",
       "    .dataframe tbody tr th {\n",
       "        vertical-align: top;\n",
       "    }\n",
       "\n",
       "    .dataframe thead th {\n",
       "        text-align: right;\n",
       "    }\n",
       "</style>\n",
       "<table border=\"1\" class=\"dataframe\">\n",
       "  <thead>\n",
       "    <tr style=\"text-align: right;\">\n",
       "      <th></th>\n",
       "      <th>total_bill</th>\n",
       "      <th>tip</th>\n",
       "      <th>sex</th>\n",
       "      <th>smoker</th>\n",
       "      <th>day</th>\n",
       "      <th>time</th>\n",
       "      <th>size</th>\n",
       "      <th>tips_percentage</th>\n",
       "    </tr>\n",
       "  </thead>\n",
       "  <tbody>\n",
       "    <tr>\n",
       "      <th>0</th>\n",
       "      <td>16.99</td>\n",
       "      <td>1.01</td>\n",
       "      <td>Female</td>\n",
       "      <td>No</td>\n",
       "      <td>Sun</td>\n",
       "      <td>Dinner</td>\n",
       "      <td>2</td>\n",
       "      <td>5.94</td>\n",
       "    </tr>\n",
       "    <tr>\n",
       "      <th>1</th>\n",
       "      <td>10.34</td>\n",
       "      <td>1.66</td>\n",
       "      <td>Male</td>\n",
       "      <td>No</td>\n",
       "      <td>Sun</td>\n",
       "      <td>Dinner</td>\n",
       "      <td>3</td>\n",
       "      <td>16.05</td>\n",
       "    </tr>\n",
       "    <tr>\n",
       "      <th>2</th>\n",
       "      <td>21.01</td>\n",
       "      <td>3.50</td>\n",
       "      <td>Male</td>\n",
       "      <td>No</td>\n",
       "      <td>Sun</td>\n",
       "      <td>Dinner</td>\n",
       "      <td>3</td>\n",
       "      <td>16.66</td>\n",
       "    </tr>\n",
       "    <tr>\n",
       "      <th>3</th>\n",
       "      <td>23.68</td>\n",
       "      <td>3.31</td>\n",
       "      <td>Male</td>\n",
       "      <td>No</td>\n",
       "      <td>Sun</td>\n",
       "      <td>Dinner</td>\n",
       "      <td>2</td>\n",
       "      <td>13.98</td>\n",
       "    </tr>\n",
       "    <tr>\n",
       "      <th>4</th>\n",
       "      <td>24.59</td>\n",
       "      <td>3.61</td>\n",
       "      <td>Female</td>\n",
       "      <td>No</td>\n",
       "      <td>Sun</td>\n",
       "      <td>Dinner</td>\n",
       "      <td>4</td>\n",
       "      <td>14.68</td>\n",
       "    </tr>\n",
       "  </tbody>\n",
       "</table>\n",
       "</div>"
      ],
      "text/plain": [
       "   total_bill   tip     sex smoker  day    time  size  tips_percentage\n",
       "0       16.99  1.01  Female     No  Sun  Dinner     2             5.94\n",
       "1       10.34  1.66    Male     No  Sun  Dinner     3            16.05\n",
       "2       21.01  3.50    Male     No  Sun  Dinner     3            16.66\n",
       "3       23.68  3.31    Male     No  Sun  Dinner     2            13.98\n",
       "4       24.59  3.61  Female     No  Sun  Dinner     4            14.68"
      ]
     },
     "execution_count": 82,
     "metadata": {},
     "output_type": "execute_result"
    }
   ],
   "source": [
    "# find the percentage of tips by total bill\n",
    "df['tips_percentage'] = np.round((df['tip']*100) / df['total_bill'] , 2)\n",
    "df.head()"
   ]
  },
  {
   "cell_type": "code",
   "execution_count": 83,
   "id": "f100ccf4",
   "metadata": {},
   "outputs": [
    {
     "data": {
      "text/html": [
       "<div>\n",
       "<style scoped>\n",
       "    .dataframe tbody tr th:only-of-type {\n",
       "        vertical-align: middle;\n",
       "    }\n",
       "\n",
       "    .dataframe tbody tr th {\n",
       "        vertical-align: top;\n",
       "    }\n",
       "\n",
       "    .dataframe thead th {\n",
       "        text-align: right;\n",
       "    }\n",
       "</style>\n",
       "<table border=\"1\" class=\"dataframe\">\n",
       "  <thead>\n",
       "    <tr style=\"text-align: right;\">\n",
       "      <th></th>\n",
       "      <th>total_bill</th>\n",
       "      <th>tip</th>\n",
       "      <th>size</th>\n",
       "      <th>tips_percentage</th>\n",
       "    </tr>\n",
       "  </thead>\n",
       "  <tbody>\n",
       "    <tr>\n",
       "      <th>total_bill</th>\n",
       "      <td>1.000000</td>\n",
       "      <td>0.675734</td>\n",
       "      <td>0.598315</td>\n",
       "      <td>-0.338629</td>\n",
       "    </tr>\n",
       "    <tr>\n",
       "      <th>tip</th>\n",
       "      <td>0.675734</td>\n",
       "      <td>1.000000</td>\n",
       "      <td>0.489299</td>\n",
       "      <td>0.342361</td>\n",
       "    </tr>\n",
       "    <tr>\n",
       "      <th>size</th>\n",
       "      <td>0.598315</td>\n",
       "      <td>0.489299</td>\n",
       "      <td>1.000000</td>\n",
       "      <td>-0.142844</td>\n",
       "    </tr>\n",
       "    <tr>\n",
       "      <th>tips_percentage</th>\n",
       "      <td>-0.338629</td>\n",
       "      <td>0.342361</td>\n",
       "      <td>-0.142844</td>\n",
       "      <td>1.000000</td>\n",
       "    </tr>\n",
       "  </tbody>\n",
       "</table>\n",
       "</div>"
      ],
      "text/plain": [
       "                 total_bill       tip      size  tips_percentage\n",
       "total_bill         1.000000  0.675734  0.598315        -0.338629\n",
       "tip                0.675734  1.000000  0.489299         0.342361\n",
       "size               0.598315  0.489299  1.000000        -0.142844\n",
       "tips_percentage   -0.338629  0.342361 -0.142844         1.000000"
      ]
     },
     "execution_count": 83,
     "metadata": {},
     "output_type": "execute_result"
    }
   ],
   "source": [
    "# To get the correaltion value of the whole data\n",
    "df.corr()"
   ]
  },
  {
   "cell_type": "code",
   "execution_count": 84,
   "id": "1bd240e5",
   "metadata": {},
   "outputs": [
    {
     "name": "stdout",
     "output_type": "stream",
     "text": [
      "The covariance between the total bill amount are tip amount is 8.3235\n",
      "The correlation between the total bill and tip amount is 0.6757\n"
     ]
    }
   ],
   "source": [
    "print(f\"The covariance between the total bill amount are tip amount is {df['total_bill'].cov(df['tip']):.4f}\")\n",
    "# correlation of total bill and tip amounts.\n",
    "print(f\"The correlation between the total bill and tip amount is {df['tip'].corr(df['total_bill']):.4f}\")"
   ]
  },
  {
   "cell_type": "code",
   "execution_count": 85,
   "id": "0c7de26e",
   "metadata": {},
   "outputs": [
    {
     "name": "stdout",
     "output_type": "stream",
     "text": [
      "\n",
      "Tips by party size:\n",
      "          mean  median   min    max     sum  size\n",
      "size                                             \n",
      "1     1.437500   1.415  1.00   1.92    5.75     4\n",
      "2     2.582308   2.500  1.00   5.85  402.84   156\n",
      "3     3.393158   3.290  1.36  10.00  128.94    38\n",
      "4     4.135405   3.760  2.00   9.00  153.01    37\n",
      "5     4.028000   5.000  2.00   5.14   20.14     5\n",
      "6     5.225000   5.000  4.20   6.70   20.90     4\n"
     ]
    }
   ],
   "source": [
    "# Tips by party size\n",
    "tips_by_size = df.groupby('size')['tip'].agg(['mean', 'median', 'min', 'max', 'sum', 'size'])\n",
    "print(\"\\nTips by party size:\")\n",
    "print(tips_by_size)"
   ]
  },
  {
   "cell_type": "markdown",
   "id": "6fb69efe",
   "metadata": {},
   "source": [
    "### Smoker Status"
   ]
  },
  {
   "cell_type": "code",
   "execution_count": 86,
   "id": "7014d561",
   "metadata": {},
   "outputs": [
    {
     "data": {
      "text/plain": [
       "['No', 'Yes']\n",
       "Categories (2, object): ['Yes', 'No']"
      ]
     },
     "execution_count": 86,
     "metadata": {},
     "output_type": "execute_result"
    }
   ],
   "source": [
    "# unique Values\n",
    "df[\"smoker\"].unique()"
   ]
  },
  {
   "cell_type": "code",
   "execution_count": 87,
   "id": "61ce572b",
   "metadata": {},
   "outputs": [
    {
     "data": {
      "text/plain": [
       "No     151\n",
       "Yes     93\n",
       "Name: smoker, dtype: int64"
      ]
     },
     "execution_count": 87,
     "metadata": {},
     "output_type": "execute_result"
    }
   ],
   "source": [
    "# Value counts smoker and non smoker\n",
    "df['smoker'].value_counts()"
   ]
  },
  {
   "cell_type": "code",
   "execution_count": 88,
   "id": "7970508d",
   "metadata": {},
   "outputs": [
    {
     "name": "stdout",
     "output_type": "stream",
     "text": [
      "\n",
      "Tips by smoker status:\n",
      "            mean  median  min   max     sum  size\n",
      "smoker                                           \n",
      "Yes     3.008710    3.00  1.0  10.0  279.81    93\n",
      "No      2.991854    2.74  1.0   9.0  451.77   151\n"
     ]
    }
   ],
   "source": [
    "# Tips by smoker status\n",
    "tips_by_smoker = df.groupby('smoker')['tip'].agg(['mean', 'median', 'min', 'max', 'sum', 'size'])\n",
    "print(\"\\nTips by smoker status:\")\n",
    "print(tips_by_smoker)"
   ]
  },
  {
   "cell_type": "code",
   "execution_count": 89,
   "id": "02e1a47e",
   "metadata": {},
   "outputs": [
    {
     "name": "stdout",
     "output_type": "stream",
     "text": [
      "non-smoker pay tips more than smoker\n"
     ]
    }
   ],
   "source": [
    "# smoker pay highest tips or non smoker pay highest tips\n",
    "\n",
    "smoker_average_tip = df.groupby('smoker').mean().loc['No' , 'tip']\n",
    "nonsmoker_average_tip = df.groupby('smoker').mean().loc['Yes' , 'tip']\n",
    "if smoker_average_tip > nonsmoker_average_tip:\n",
    "    print('smoker pay tips more than non-smoker')\n",
    "else:\n",
    "    print('non-smoker pay tips more than smoker')"
   ]
  },
  {
   "cell_type": "markdown",
   "id": "2501c56f",
   "metadata": {},
   "source": [
    "### Gender Status"
   ]
  },
  {
   "cell_type": "code",
   "execution_count": 90,
   "id": "001425d4",
   "metadata": {},
   "outputs": [
    {
     "data": {
      "text/plain": [
       "['Female', 'Male']\n",
       "Categories (2, object): ['Male', 'Female']"
      ]
     },
     "execution_count": 90,
     "metadata": {},
     "output_type": "execute_result"
    }
   ],
   "source": [
    "# unique Values\n",
    "df[\"sex\"].unique()"
   ]
  },
  {
   "cell_type": "code",
   "execution_count": 91,
   "id": "83885ee6",
   "metadata": {},
   "outputs": [
    {
     "data": {
      "text/plain": [
       "Male      157\n",
       "Female     87\n",
       "Name: sex, dtype: int64"
      ]
     },
     "execution_count": 91,
     "metadata": {},
     "output_type": "execute_result"
    }
   ],
   "source": [
    "# Value counts male and non female\n",
    "df['sex'].value_counts()"
   ]
  },
  {
   "cell_type": "code",
   "execution_count": 92,
   "id": "d133e065",
   "metadata": {},
   "outputs": [
    {
     "data": {
      "text/html": [
       "<div>\n",
       "<style scoped>\n",
       "    .dataframe tbody tr th:only-of-type {\n",
       "        vertical-align: middle;\n",
       "    }\n",
       "\n",
       "    .dataframe tbody tr th {\n",
       "        vertical-align: top;\n",
       "    }\n",
       "\n",
       "    .dataframe thead th {\n",
       "        text-align: right;\n",
       "    }\n",
       "</style>\n",
       "<table border=\"1\" class=\"dataframe\">\n",
       "  <thead>\n",
       "    <tr style=\"text-align: right;\">\n",
       "      <th></th>\n",
       "      <th>total_bill</th>\n",
       "      <th>tip</th>\n",
       "      <th>sex</th>\n",
       "      <th>smoker</th>\n",
       "      <th>day</th>\n",
       "      <th>time</th>\n",
       "      <th>size</th>\n",
       "      <th>tips_percentage</th>\n",
       "    </tr>\n",
       "  </thead>\n",
       "  <tbody>\n",
       "    <tr>\n",
       "      <th>0</th>\n",
       "      <td>16.99</td>\n",
       "      <td>1.01</td>\n",
       "      <td>Female</td>\n",
       "      <td>No</td>\n",
       "      <td>Sun</td>\n",
       "      <td>Dinner</td>\n",
       "      <td>2</td>\n",
       "      <td>50.50</td>\n",
       "    </tr>\n",
       "    <tr>\n",
       "      <th>1</th>\n",
       "      <td>10.34</td>\n",
       "      <td>1.66</td>\n",
       "      <td>Male</td>\n",
       "      <td>No</td>\n",
       "      <td>Sun</td>\n",
       "      <td>Dinner</td>\n",
       "      <td>3</td>\n",
       "      <td>55.33</td>\n",
       "    </tr>\n",
       "    <tr>\n",
       "      <th>2</th>\n",
       "      <td>21.01</td>\n",
       "      <td>3.50</td>\n",
       "      <td>Male</td>\n",
       "      <td>No</td>\n",
       "      <td>Sun</td>\n",
       "      <td>Dinner</td>\n",
       "      <td>3</td>\n",
       "      <td>116.67</td>\n",
       "    </tr>\n",
       "    <tr>\n",
       "      <th>3</th>\n",
       "      <td>23.68</td>\n",
       "      <td>3.31</td>\n",
       "      <td>Male</td>\n",
       "      <td>No</td>\n",
       "      <td>Sun</td>\n",
       "      <td>Dinner</td>\n",
       "      <td>2</td>\n",
       "      <td>165.50</td>\n",
       "    </tr>\n",
       "    <tr>\n",
       "      <th>4</th>\n",
       "      <td>24.59</td>\n",
       "      <td>3.61</td>\n",
       "      <td>Female</td>\n",
       "      <td>No</td>\n",
       "      <td>Sun</td>\n",
       "      <td>Dinner</td>\n",
       "      <td>4</td>\n",
       "      <td>90.25</td>\n",
       "    </tr>\n",
       "  </tbody>\n",
       "</table>\n",
       "</div>"
      ],
      "text/plain": [
       "   total_bill   tip     sex smoker  day    time  size  tips_percentage\n",
       "0       16.99  1.01  Female     No  Sun  Dinner     2            50.50\n",
       "1       10.34  1.66    Male     No  Sun  Dinner     3            55.33\n",
       "2       21.01  3.50    Male     No  Sun  Dinner     3           116.67\n",
       "3       23.68  3.31    Male     No  Sun  Dinner     2           165.50\n",
       "4       24.59  3.61  Female     No  Sun  Dinner     4            90.25"
      ]
     },
     "execution_count": 92,
     "metadata": {},
     "output_type": "execute_result"
    }
   ],
   "source": [
    "# find the percentage of tips by male and female\n",
    "df['tips_percentage'] = np.round((df['tip']*100) / df['size'] , 2)\n",
    "df.head()"
   ]
  },
  {
   "cell_type": "code",
   "execution_count": 93,
   "id": "62f62cb9",
   "metadata": {},
   "outputs": [
    {
     "name": "stdout",
     "output_type": "stream",
     "text": [
      "men pay tips more than women\n"
     ]
    }
   ],
   "source": [
    "# Who pay more men or women :\n",
    "men_average_tip = df.groupby('sex').mean().loc['Male' , 'tip']\n",
    "women_average_tip = df.groupby('sex').mean().loc['Female' , 'tip']\n",
    "if men_average_tip > women_average_tip:\n",
    "    print('men pay tips more than women')\n",
    "else:\n",
    "    print('women pay tips more than men')"
   ]
  },
  {
   "cell_type": "markdown",
   "id": "e9f3ae8d",
   "metadata": {},
   "source": [
    "## Day"
   ]
  },
  {
   "cell_type": "code",
   "execution_count": 94,
   "id": "c86586bc",
   "metadata": {},
   "outputs": [
    {
     "data": {
      "text/plain": [
       "['Sun', 'Sat', 'Thur', 'Fri']\n",
       "Categories (4, object): ['Thur', 'Fri', 'Sat', 'Sun']"
      ]
     },
     "execution_count": 94,
     "metadata": {},
     "output_type": "execute_result"
    }
   ],
   "source": [
    "# unique Values\n",
    "df[\"day\"].unique()"
   ]
  },
  {
   "cell_type": "markdown",
   "id": "b32a12b0",
   "metadata": {},
   "source": [
    "Total sales each day and percentage"
   ]
  },
  {
   "cell_type": "code",
   "execution_count": 95,
   "id": "dfeecd50",
   "metadata": {},
   "outputs": [
    {
     "data": {
      "text/plain": [
       "Sat     87\n",
       "Sun     76\n",
       "Thur    62\n",
       "Fri     19\n",
       "Name: day, dtype: int64"
      ]
     },
     "execution_count": 95,
     "metadata": {},
     "output_type": "execute_result"
    }
   ],
   "source": [
    "# Value counts male and non female\n",
    "df['day'].value_counts()"
   ]
  },
  {
   "cell_type": "code",
   "execution_count": 130,
   "id": "12f8ebd2",
   "metadata": {},
   "outputs": [
    {
     "name": "stdout",
     "output_type": "stream",
     "text": [
      "Average Tip Percentage by Day:\n",
      "    day       tip\n",
      "0  Thur  2.771452\n",
      "1   Fri  2.734737\n",
      "2   Sat  2.993103\n",
      "3   Sun  3.255132\n"
     ]
    }
   ],
   "source": [
    "# Calculate average tip percentage for each day\n",
    "average_tip_percentage_by_day = df.groupby('day')['tip'].mean().reset_index()\n",
    "\n",
    "# Display the average tip percentage by day\n",
    "print(\"Average Tip Percentage by Day:\")\n",
    "print(average_tip_percentage_by_day)"
   ]
  },
  {
   "cell_type": "markdown",
   "id": "04742df5",
   "metadata": {},
   "source": [
    "## Time"
   ]
  },
  {
   "cell_type": "code",
   "execution_count": 131,
   "id": "604d4f3a",
   "metadata": {
    "scrolled": true
   },
   "outputs": [
    {
     "data": {
      "text/plain": [
       "['Dinner', 'Lunch']\n",
       "Categories (2, object): ['Lunch', 'Dinner']"
      ]
     },
     "execution_count": 131,
     "metadata": {},
     "output_type": "execute_result"
    }
   ],
   "source": [
    "df[\"time\"].unique()"
   ]
  },
  {
   "cell_type": "code",
   "execution_count": 132,
   "id": "c494b5f4",
   "metadata": {},
   "outputs": [
    {
     "data": {
      "text/plain": [
       "Dinner    176\n",
       "Lunch      68\n",
       "Name: time, dtype: int64"
      ]
     },
     "execution_count": 132,
     "metadata": {},
     "output_type": "execute_result"
    }
   ],
   "source": [
    "df['time'].value_counts()"
   ]
  },
  {
   "cell_type": "code",
   "execution_count": 133,
   "id": "6addd37a",
   "metadata": {},
   "outputs": [
    {
     "name": "stdout",
     "output_type": "stream",
     "text": [
      "\n",
      "Tips by meal time:\n",
      "            mean  median   min   max     sum  size\n",
      "time                                              \n",
      "Lunch   2.728088    2.25  1.25   6.7  185.51    68\n",
      "Dinner  3.102670    3.00  1.00  10.0  546.07   176\n"
     ]
    }
   ],
   "source": [
    "# Tips by meal time\n",
    "tips_by_time = df.groupby('time')['tip'].agg(['mean', 'median', 'min', 'max', 'sum', 'size'])\n",
    "print(\"\\nTips by meal time:\")\n",
    "print(tips_by_time)"
   ]
  },
  {
   "cell_type": "code",
   "execution_count": 142,
   "id": "c86747ac",
   "metadata": {},
   "outputs": [
    {
     "name": "stdout",
     "output_type": "stream",
     "text": [
      "\n",
      "Average Tip Percentage by Day and Time:\n",
      "    day    time  average_tip_percentage\n",
      "0  Thur   Lunch               16.130074\n",
      "1  Thur  Dinner               15.974441\n",
      "2   Fri   Lunch               18.876489\n",
      "3   Fri  Dinner               15.891611\n",
      "4   Sat   Lunch                0.000000\n",
      "5   Sat  Dinner               15.315172\n",
      "6   Sun   Lunch                0.000000\n",
      "7   Sun  Dinner               16.689729\n"
     ]
    }
   ],
   "source": [
    "# Analysis: Average tip percentage by day and time\n",
    "df['average_tip_percentage'] = (df['tip'] / df['total_bill']) * 100\n",
    "average_tip_percentage = df.groupby(['day', 'time'])['average_tip_percentage'].mean().reset_index().replace(np.nan,0)\n",
    "print(\"\\nAverage Tip Percentage by Day and Time:\")\n",
    "print(average_tip_percentage)"
   ]
  },
  {
   "cell_type": "markdown",
   "id": "ea155549",
   "metadata": {},
   "source": [
    "## Size"
   ]
  },
  {
   "cell_type": "code",
   "execution_count": 105,
   "id": "52284112",
   "metadata": {},
   "outputs": [
    {
     "data": {
      "text/plain": [
       "array([2, 3, 4, 1, 6, 5])"
      ]
     },
     "execution_count": 105,
     "metadata": {},
     "output_type": "execute_result"
    }
   ],
   "source": [
    "df[\"size\"].unique()"
   ]
  },
  {
   "cell_type": "code",
   "execution_count": 138,
   "id": "35811410",
   "metadata": {},
   "outputs": [
    {
     "data": {
      "text/plain": [
       "1      4\n",
       "6      4\n",
       "5      5\n",
       "4     37\n",
       "3     38\n",
       "2    156\n",
       "Name: size, dtype: int64"
      ]
     },
     "execution_count": 138,
     "metadata": {},
     "output_type": "execute_result"
    }
   ],
   "source": [
    "df['size'].value_counts().sort_values(ascending=True)"
   ]
  },
  {
   "cell_type": "code",
   "execution_count": 139,
   "id": "4e84b063",
   "metadata": {},
   "outputs": [
    {
     "name": "stdout",
     "output_type": "stream",
     "text": [
      "\n",
      "Tips by party size:\n",
      "          mean  median   min    max     sum  size\n",
      "size                                             \n",
      "1     1.437500   1.415  1.00   1.92    5.75     4\n",
      "2     2.582308   2.500  1.00   5.85  402.84   156\n",
      "3     3.393158   3.290  1.36  10.00  128.94    38\n",
      "4     4.135405   3.760  2.00   9.00  153.01    37\n",
      "5     4.028000   5.000  2.00   5.14   20.14     5\n",
      "6     5.225000   5.000  4.20   6.70   20.90     4\n"
     ]
    }
   ],
   "source": [
    "# Tips by party size\n",
    "tips_by_size = df.groupby('size')['tip'].agg(['mean', 'median', 'min', 'max', 'sum', 'size'])\n",
    "print(\"\\nTips by party size:\")\n",
    "print(tips_by_size)"
   ]
  },
  {
   "cell_type": "code",
   "execution_count": 140,
   "id": "debb1862",
   "metadata": {},
   "outputs": [
    {
     "data": {
      "text/html": [
       "<div>\n",
       "<style scoped>\n",
       "    .dataframe tbody tr th:only-of-type {\n",
       "        vertical-align: middle;\n",
       "    }\n",
       "\n",
       "    .dataframe tbody tr th {\n",
       "        vertical-align: top;\n",
       "    }\n",
       "\n",
       "    .dataframe thead th {\n",
       "        text-align: right;\n",
       "    }\n",
       "</style>\n",
       "<table border=\"1\" class=\"dataframe\">\n",
       "  <thead>\n",
       "    <tr style=\"text-align: right;\">\n",
       "      <th></th>\n",
       "      <th>total_bill</th>\n",
       "      <th>tip</th>\n",
       "      <th>sex</th>\n",
       "      <th>smoker</th>\n",
       "      <th>day</th>\n",
       "      <th>time</th>\n",
       "      <th>size</th>\n",
       "      <th>tips_percentage</th>\n",
       "      <th>average_tip_percentage</th>\n",
       "      <th>total_sales_percentage</th>\n",
       "    </tr>\n",
       "  </thead>\n",
       "  <tbody>\n",
       "    <tr>\n",
       "      <th>0</th>\n",
       "      <td>16.99</td>\n",
       "      <td>1.01</td>\n",
       "      <td>Female</td>\n",
       "      <td>No</td>\n",
       "      <td>Sun</td>\n",
       "      <td>Dinner</td>\n",
       "      <td>2</td>\n",
       "      <td>50.50</td>\n",
       "      <td>5.944673</td>\n",
       "      <td>5.944673</td>\n",
       "    </tr>\n",
       "    <tr>\n",
       "      <th>1</th>\n",
       "      <td>10.34</td>\n",
       "      <td>1.66</td>\n",
       "      <td>Male</td>\n",
       "      <td>No</td>\n",
       "      <td>Sun</td>\n",
       "      <td>Dinner</td>\n",
       "      <td>3</td>\n",
       "      <td>55.33</td>\n",
       "      <td>16.054159</td>\n",
       "      <td>16.054159</td>\n",
       "    </tr>\n",
       "    <tr>\n",
       "      <th>2</th>\n",
       "      <td>21.01</td>\n",
       "      <td>3.50</td>\n",
       "      <td>Male</td>\n",
       "      <td>No</td>\n",
       "      <td>Sun</td>\n",
       "      <td>Dinner</td>\n",
       "      <td>3</td>\n",
       "      <td>116.67</td>\n",
       "      <td>16.658734</td>\n",
       "      <td>16.658734</td>\n",
       "    </tr>\n",
       "    <tr>\n",
       "      <th>3</th>\n",
       "      <td>23.68</td>\n",
       "      <td>3.31</td>\n",
       "      <td>Male</td>\n",
       "      <td>No</td>\n",
       "      <td>Sun</td>\n",
       "      <td>Dinner</td>\n",
       "      <td>2</td>\n",
       "      <td>165.50</td>\n",
       "      <td>13.978041</td>\n",
       "      <td>13.978041</td>\n",
       "    </tr>\n",
       "    <tr>\n",
       "      <th>4</th>\n",
       "      <td>24.59</td>\n",
       "      <td>3.61</td>\n",
       "      <td>Female</td>\n",
       "      <td>No</td>\n",
       "      <td>Sun</td>\n",
       "      <td>Dinner</td>\n",
       "      <td>4</td>\n",
       "      <td>90.25</td>\n",
       "      <td>14.680765</td>\n",
       "      <td>14.680765</td>\n",
       "    </tr>\n",
       "  </tbody>\n",
       "</table>\n",
       "</div>"
      ],
      "text/plain": [
       "   total_bill   tip     sex smoker  day    time  size  tips_percentage  \\\n",
       "0       16.99  1.01  Female     No  Sun  Dinner     2            50.50   \n",
       "1       10.34  1.66    Male     No  Sun  Dinner     3            55.33   \n",
       "2       21.01  3.50    Male     No  Sun  Dinner     3           116.67   \n",
       "3       23.68  3.31    Male     No  Sun  Dinner     2           165.50   \n",
       "4       24.59  3.61  Female     No  Sun  Dinner     4            90.25   \n",
       "\n",
       "   average_tip_percentage  total_sales_percentage  \n",
       "0                5.944673                5.944673  \n",
       "1               16.054159               16.054159  \n",
       "2               16.658734               16.658734  \n",
       "3               13.978041               13.978041  \n",
       "4               14.680765               14.680765  "
      ]
     },
     "execution_count": 140,
     "metadata": {},
     "output_type": "execute_result"
    }
   ],
   "source": [
    "# find the percentage\n",
    "df['tips_percentage'] = np.round((df['tip']*100) / df['size'] , 2)\n",
    "df.head()"
   ]
  },
  {
   "cell_type": "code",
   "execution_count": null,
   "id": "604f597e",
   "metadata": {},
   "outputs": [],
   "source": []
  }
 ],
 "metadata": {
  "kernelspec": {
   "display_name": "Python 3 (ipykernel)",
   "language": "python",
   "name": "python3"
  },
  "language_info": {
   "codemirror_mode": {
    "name": "ipython",
    "version": 3
   },
   "file_extension": ".py",
   "mimetype": "text/x-python",
   "name": "python",
   "nbconvert_exporter": "python",
   "pygments_lexer": "ipython3",
   "version": "3.9.13"
  }
 },
 "nbformat": 4,
 "nbformat_minor": 5
}
